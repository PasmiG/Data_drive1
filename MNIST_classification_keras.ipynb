{
 "cells": [
  {
   "cell_type": "markdown",
   "metadata": {},
   "source": [
    "#                       Mnist classification with keras\n",
    "\n"
   ]
  },
  {
   "cell_type": "markdown",
   "metadata": {},
   "source": [
    "    In this project we will see how to create a mnist data digit classifer with keras."
   ]
  },
  {
   "cell_type": "code",
   "execution_count": 39,
   "metadata": {},
   "outputs": [],
   "source": [
    "from keras.datasets import mnist\n",
    "import keras.utils.np_utils as ku\n",
    "import keras.models as models\n",
    "import keras.layers as layers\n",
    "from keras import regularizers\n",
    "\n",
    "from keras.optimizers import rmsprop\n",
    "#import numpy.random as nr\n",
    "#from tensorflow import set_random_seed\n",
    "\n",
    "import numpy as np\n",
    "import matplotlib.pyplot as plt\n",
    "%matplotlib inline\n"
   ]
  },
  {
   "cell_type": "markdown",
   "metadata": {},
   "source": [
    "## Load Data and explore"
   ]
  },
  {
   "cell_type": "code",
   "execution_count": 40,
   "metadata": {},
   "outputs": [],
   "source": [
    "(train_images, train_labels),(test_images, test_labels)=mnist.load_data()"
   ]
  },
  {
   "cell_type": "code",
   "execution_count": 41,
   "metadata": {},
   "outputs": [
    {
     "name": "stdout",
     "output_type": "stream",
     "text": [
      "(28, 28)\n"
     ]
    }
   ],
   "source": [
    "print(train_images[4].shape)"
   ]
  },
  {
   "cell_type": "code",
   "execution_count": 46,
   "metadata": {},
   "outputs": [
    {
     "data": {
      "image/png": "[encoded data removed]",
      "text/plain": [
       "<Figure size 432x288 with 1 Axes>"
      ]
     },
     "metadata": {
      "needs_background": "light"
     },
     "output_type": "display_data"
    },
    {
     "name": "stdout",
     "output_type": "stream",
     "text": [
      "Label = 2\n"
     ]
    },
    {
     "data": {
      "image/png": "[encoded data removed]",
      "text/plain": [
       "<Figure size 432x288 with 1 Axes>"
      ]
     },
     "metadata": {
      "needs_background": "light"
     },
     "output_type": "display_data"
    },
    {
     "name": "stdout",
     "output_type": "stream",
     "text": [
      "Label = 4\n"
     ]
    },
    {
     "data": {
      "image/png": "[encoded data removed]",
      "text/plain": [
       "<Figure size 432x288 with 1 Axes>"
      ]
     },
     "metadata": {
      "needs_background": "light"
     },
     "output_type": "display_data"
    },
    {
     "name": "stdout",
     "output_type": "stream",
     "text": [
      "Label = 6\n"
     ]
    },
    {
     "data": {
      "image/png": "[encoded data removed]",
      "text/plain": [
       "<Figure size 432x288 with 1 Axes>"
      ]
     },
     "metadata": {
      "needs_background": "light"
     },
     "output_type": "display_data"
    },
    {
     "name": "stdout",
     "output_type": "stream",
     "text": [
      "Label = 8\n"
     ]
    }
   ],
   "source": [
    "# display 4 of 60000 images with their labels\n",
    "for i in range(5,20,4):\n",
    "    plt.imshow(train_images[i], cmap = plt.cm.binary)\n",
    "    plt.show()\n",
    "    print('Label = ' + str(train_labels[i]))"
   ]
  },
  {
   "cell_type": "markdown",
   "metadata": {},
   "source": [
    "## Prepare image data for training"
   ]
  },
  {
   "cell_type": "markdown",
   "metadata": {},
   "source": [
    "* Flatten the images and convert pixel values to standardized floating point number."
   ]
  },
  {
   "cell_type": "code",
   "execution_count": 8,
   "metadata": {},
   "outputs": [
    {
     "name": "stdout",
     "output_type": "stream",
     "text": [
      "(60000, 28, 28) (60000,)\n",
      "(60000, 784)\n",
      "float32\n"
     ]
    }
   ],
   "source": [
    "# we have 60000 train images and 10000 test images\n",
    "\n",
    "print(train_images.shape, train_labels.shape)\n",
    "train_images = train_images.reshape(60000, 28*28).astype('float32')/255\n",
    "print(train_images.shape)\n",
    "print(train_images.dtype)"
   ]
  },
  {
   "cell_type": "markdown",
   "metadata": {},
   "source": [
    "* Apply same transformation to test dataset."
   ]
  },
  {
   "cell_type": "code",
   "execution_count": 10,
   "metadata": {},
   "outputs": [
    {
     "name": "stdout",
     "output_type": "stream",
     "text": [
      "(10000, 28, 28) (10000,)\n",
      "(10000, 784)\n"
     ]
    }
   ],
   "source": [
    "print(test_images.shape, test_labels.shape)\n",
    "test_images = test_images.reshape(10000, 28*28).astype('float32')/255\n",
    "print(test_images.shape)\n"
   ]
  },
  {
   "cell_type": "code",
   "execution_count": 12,
   "metadata": {},
   "outputs": [
    {
     "name": "stdout",
     "output_type": "stream",
     "text": [
      "[2 1 3 ... 5 6 8]\n"
     ]
    }
   ],
   "source": [
    "print(train_labels[5:,])"
   ]
  },
  {
   "cell_type": "markdown",
   "metadata": {},
   "source": [
    "* Labels above are integers, we need catagorical values. Here, we can use keras to_categorical method of keras.utils.np_utils to do this."
   ]
  },
  {
   "cell_type": "code",
   "execution_count": 13,
   "metadata": {},
   "outputs": [
    {
     "name": "stdout",
     "output_type": "stream",
     "text": [
      "[[0. 0. 1. ... 0. 0. 0.]\n",
      " [0. 1. 0. ... 0. 0. 0.]\n",
      " [0. 0. 0. ... 0. 0. 0.]\n",
      " ...\n",
      " [0. 0. 0. ... 0. 0. 0.]\n",
      " [0. 0. 0. ... 0. 0. 0.]\n",
      " [0. 0. 0. ... 0. 1. 0.]]\n"
     ]
    }
   ],
   "source": [
    "# one hot encode train and test labels\n",
    "train_labels = ku.to_categorical(train_labels)\n",
    "print(train_labels[5:,])"
   ]
  },
  {
   "cell_type": "code",
   "execution_count": 14,
   "metadata": {},
   "outputs": [],
   "source": [
    "test_labels = ku.to_categorical(test_labels)"
   ]
  },
  {
   "cell_type": "markdown",
   "metadata": {},
   "source": [
    "## Define a sequential model"
   ]
  },
  {
   "cell_type": "markdown",
   "metadata": {},
   "source": [
    "* We need 10 units since there are 10 categories (digits 0 to 9) of the model we are classifing.\n",
    "* This is multinomial classification problem, using softmax activation."
   ]
  },
  {
   "cell_type": "code",
   "execution_count": 16,
   "metadata": {},
   "outputs": [
    {
     "name": "stdout",
     "output_type": "stream",
     "text": [
      "WARNING:tensorflow:From C:\\Users\\BG\\Anaconda3\\lib\\site-packages\\tensorflow\\python\\ops\\resource_variable_ops.py:435: colocate_with (from tensorflow.python.framework.ops) is deprecated and will be removed in a future version.\n",
      "Instructions for updating:\n",
      "Colocations handled automatically by placer.\n"
     ]
    }
   ],
   "source": [
    "nn= models.Sequential()\n",
    "nn.add(layers.Dense(512, activation = 'relu', input_shape = (28*28,)))\n",
    "nn.add(layers.Dense(10, activation = 'softmax'))\n"
   ]
  },
  {
   "cell_type": "markdown",
   "metadata": {},
   "source": [
    "## Train and evaluate a sequential model"
   ]
  },
  {
   "cell_type": "markdown",
   "metadata": {},
   "source": [
    "First, we need to:\n",
    "* Compile and execute our model\n",
    "* Specify a optimizer\n",
    "* Specify a loss function (in this case, we have multinomial classification - so using categorical_crossentropy)\n",
    "* Specify one (or more) metric used to evaluate performance of the model)\n"
   ]
  },
  {
   "cell_type": "code",
   "execution_count": 19,
   "metadata": {},
   "outputs": [],
   "source": [
    "nn.compile(optimizer = 'rmsprop', loss = 'categorical_crossentropy', metrics = ['accuracy'])"
   ]
  },
  {
   "cell_type": "markdown",
   "metadata": {},
   "source": [
    "Now our model is ready to be trained using fit method with arguments:\n",
    "* Training features\n",
    "* Training labels (as this is a supervised ml model)\n",
    "* Number of epochs (iterations)\n",
    "* Batch size (used for optimizer)"
   ]
  },
  {
   "cell_type": "code",
   "execution_count": 20,
   "metadata": {},
   "outputs": [
    {
     "name": "stdout",
     "output_type": "stream",
     "text": [
      "Epoch 1/5\n",
      "60000/60000 [==============================] - 7s 122us/step - loss: 0.2588 - accuracy: 0.9255\n",
      "Epoch 2/5\n",
      "60000/60000 [==============================] - 5s 81us/step - loss: 0.1038 - accuracy: 0.9693\n",
      "Epoch 3/5\n",
      "60000/60000 [==============================] - 5s 83us/step - loss: 0.0679 - accuracy: 0.9803\n",
      "Epoch 4/5\n",
      "60000/60000 [==============================] - 5s 79us/step - loss: 0.0494 - accuracy: 0.9855\n",
      "Epoch 5/5\n",
      "60000/60000 [==============================] - 5s 78us/step - loss: 0.0364 - accuracy: 0.9893\n"
     ]
    },
    {
     "data": {
      "text/plain": [
       "<keras.callbacks.callbacks.History at 0x255e5ead240>"
      ]
     },
     "execution_count": 20,
     "metadata": {},
     "output_type": "execute_result"
    }
   ],
   "source": [
    "nn.fit(train_images, train_labels, epochs =5, batch_size =128)"
   ]
  },
  {
   "cell_type": "code",
   "execution_count": 22,
   "metadata": {},
   "outputs": [
    {
     "name": "stdout",
     "output_type": "stream",
     "text": [
      "10000/10000 [==============================] - 1s 55us/step\n"
     ]
    },
    {
     "data": {
      "text/plain": [
       "[0.06961160766235552, 0.9785000085830688]"
      ]
     },
     "execution_count": 22,
     "metadata": {},
     "output_type": "execute_result"
    }
   ],
   "source": [
    "# Test the model we built\n",
    "\n",
    "nn.evaluate(test_images, test_labels)"
   ]
  },
  {
   "cell_type": "markdown",
   "metadata": {},
   "source": [
    "## Training over epochs"
   ]
  },
  {
   "cell_type": "markdown",
   "metadata": {},
   "source": [
    "In order to determine at what point a model is overfit during training it is necessary to evaluate the model after each training epoch. A history object is created which contains the history of various metrics during the training or fitting process."
   ]
  },
  {
   "cell_type": "code",
   "execution_count": 24,
   "metadata": {},
   "outputs": [
    {
     "name": "stdout",
     "output_type": "stream",
     "text": [
      "Model: \"sequential_3\"\n",
      "_________________________________________________________________\n",
      "Layer (type)                 Output Shape              Param #   \n",
      "=================================================================\n",
      "dense_5 (Dense)              (None, 512)               401920    \n",
      "_________________________________________________________________\n",
      "dense_6 (Dense)              (None, 10)                5130      \n",
      "=================================================================\n",
      "Total params: 407,050\n",
      "Trainable params: 407,050\n",
      "Non-trainable params: 0\n",
      "_________________________________________________________________\n",
      "Train on 60000 samples, validate on 10000 samples\n",
      "Epoch 1/10\n",
      "60000/60000 [==============================] - 6s 101us/step - loss: 0.2563 - accuracy: 0.9264 - val_loss: 0.1274 - val_accuracy: 0.9636\n",
      "Epoch 2/10\n",
      "60000/60000 [==============================] - 6s 103us/step - loss: 0.1034 - accuracy: 0.9696 - val_loss: 0.0874 - val_accuracy: 0.9735\n",
      "Epoch 3/10\n",
      "60000/60000 [==============================] - 5s 89us/step - loss: 0.0680 - accuracy: 0.9790 - val_loss: 0.0828 - val_accuracy: 0.9740\n",
      "Epoch 4/10\n",
      "60000/60000 [==============================] - 5s 90us/step - loss: 0.0497 - accuracy: 0.9850 - val_loss: 0.0648 - val_accuracy: 0.9806\n",
      "Epoch 5/10\n",
      "60000/60000 [==============================] - 5s 90us/step - loss: 0.0374 - accuracy: 0.9889 - val_loss: 0.0629 - val_accuracy: 0.9814\n",
      "Epoch 6/10\n",
      "60000/60000 [==============================] - 5s 85us/step - loss: 0.0276 - accuracy: 0.9918 - val_loss: 0.0681 - val_accuracy: 0.9800\n",
      "Epoch 7/10\n",
      "60000/60000 [==============================] - 5s 88us/step - loss: 0.0216 - accuracy: 0.9937 - val_loss: 0.0717 - val_accuracy: 0.9800\n",
      "Epoch 8/10\n",
      "60000/60000 [==============================] - 5s 90us/step - loss: 0.0170 - accuracy: 0.9950 - val_loss: 0.0607 - val_accuracy: 0.9829\n",
      "Epoch 9/10\n",
      "60000/60000 [==============================] - 5s 87us/step - loss: 0.0131 - accuracy: 0.9963 - val_loss: 0.0638 - val_accuracy: 0.9813\n",
      "Epoch 10/10\n",
      "60000/60000 [==============================] - 5s 86us/step - loss: 0.0097 - accuracy: 0.9969 - val_loss: 0.0695 - val_accuracy: 0.9817\n"
     ]
    }
   ],
   "source": [
    "## Define a sequential model and print a summary\n",
    "nnt = models.Sequential()\n",
    "nnt.add(layers.Dense(512, activation = 'relu', input_shape = (28*28, )))\n",
    "nnt.add(layers.Dense(10, activation = 'softmax'))\n",
    "nnt.summary()\n",
    "\n",
    "## Compile the model. \n",
    "nnt.compile(optimizer = 'rmsprop', loss = 'categorical_crossentropy', \n",
    "                metrics = ['accuracy'])\n",
    " \n",
    "## Fit the model saving the results to a history file    \n",
    "#nr.seed(4678)\n",
    "#set_random_seed(8866)\n",
    "history = nnt.fit(train_images, train_labels, \n",
    "                  epochs = 10, batch_size = 128,\n",
    "                  validation_data = (test_images, test_labels))"
   ]
  },
  {
   "cell_type": "code",
   "execution_count": 25,
   "metadata": {},
   "outputs": [
    {
     "data": {
      "image/png": "[encoded data removed]",
      "text/plain": [
       "<Figure size 432x288 with 1 Axes>"
      ]
     },
     "metadata": {
      "needs_background": "light"
     },
     "output_type": "display_data"
    }
   ],
   "source": [
    "def plot_loss(history):\n",
    "    train_loss = history.history['loss']\n",
    "    test_loss = history.history['val_loss']\n",
    "    x = list(range(1, len(test_loss) + 1))\n",
    "    plt.plot(x, test_loss, color = 'red', label = 'test loss')\n",
    "    plt.plot(x, train_loss, label = 'traning loss')\n",
    "    plt.xlabel('Epoch')\n",
    "    plt.ylabel('Loss')\n",
    "    plt.title('Loss vs. Epoch')\n",
    "    plt.legend()\n",
    "    \n",
    "plot_loss(history)"
   ]
  },
  {
   "cell_type": "code",
   "execution_count": 28,
   "metadata": {},
   "outputs": [
    {
     "data": {
      "image/png": "[encoded data removed]",
      "text/plain": [
       "<Figure size 432x288 with 1 Axes>"
      ]
     },
     "metadata": {
      "needs_background": "light"
     },
     "output_type": "display_data"
    }
   ],
   "source": [
    "def plot_accuracy(history):\n",
    "    train_acc = history.history['accuracy']\n",
    "    test_acc = history.history['val_accuracy']\n",
    "    x = list(range(1, len(test_acc) + 1))\n",
    "    plt.plot(x, test_acc, color = 'red', label = 'test accuracy')\n",
    "    plt.plot(x, train_acc, label = 'training accuracy')  \n",
    "    plt.xlabel('Epoch')\n",
    "    plt.ylabel('Accuracy')\n",
    "    plt.title('Accuracy vs. Epoch')  \n",
    "    plt.legend(loc='lower right')\n",
    "    \n",
    "plot_accuracy(history)"
   ]
  },
  {
   "cell_type": "markdown",
   "metadata": {},
   "source": [
    "\n",
    "Notice that the training loss and accuracy continue to improve throughout the epochs. However, the evaluation loss and accuracy only improve significantly for the first four, or perhaps 5, epochs. This is clear evidence that subsequent epochs are simply over-fitting the model."
   ]
  },
  {
   "cell_type": "markdown",
   "metadata": {},
   "source": [
    "## Add hidden layers"
   ]
  },
  {
   "cell_type": "markdown",
   "metadata": {},
   "source": [
    "Define a model similar to the first one, but with a second layer defined. Notice that the definition of the two layer model is nearly the same as for the single layer model. In this case, the second layer has the same number of units and activation function as the first.\n",
    "\n",
    "However, notice that the input_shape does not need to be defined for hidden layers past the first. Keras will determine the dimensions of tensors passed between layers beyond the input"
   ]
  },
  {
   "cell_type": "code",
   "execution_count": 29,
   "metadata": {},
   "outputs": [
    {
     "name": "stdout",
     "output_type": "stream",
     "text": [
      "Model: \"sequential_4\"\n",
      "_________________________________________________________________\n",
      "Layer (type)                 Output Shape              Param #   \n",
      "=================================================================\n",
      "dense_7 (Dense)              (None, 512)               401920    \n",
      "_________________________________________________________________\n",
      "dense_8 (Dense)              (None, 512)               262656    \n",
      "_________________________________________________________________\n",
      "dense_9 (Dense)              (None, 10)                5130      \n",
      "=================================================================\n",
      "Total params: 669,706\n",
      "Trainable params: 669,706\n",
      "Non-trainable params: 0\n",
      "_________________________________________________________________\n",
      "Train on 60000 samples, validate on 10000 samples\n",
      "Epoch 1/20\n",
      "60000/60000 [==============================] - 9s 153us/step - loss: 0.2178 - accuracy: 0.9328 - val_loss: 0.1440 - val_accuracy: 0.9522\n",
      "Epoch 2/20\n",
      "60000/60000 [==============================] - 9s 144us/step - loss: 0.0826 - accuracy: 0.9749 - val_loss: 0.0968 - val_accuracy: 0.9706\n",
      "Epoch 3/20\n",
      "60000/60000 [==============================] - 8s 140us/step - loss: 0.0528 - accuracy: 0.9838 - val_loss: 0.0771 - val_accuracy: 0.9774\n",
      "Epoch 4/20\n",
      "60000/60000 [==============================] - 8s 140us/step - loss: 0.0377 - accuracy: 0.9886 - val_loss: 0.0799 - val_accuracy: 0.9795\n",
      "Epoch 5/20\n",
      "60000/60000 [==============================] - 8s 136us/step - loss: 0.0291 - accuracy: 0.9908 - val_loss: 0.1084 - val_accuracy: 0.9749\n",
      "Epoch 6/20\n",
      "60000/60000 [==============================] - 8s 140us/step - loss: 0.0248 - accuracy: 0.9926 - val_loss: 0.0793 - val_accuracy: 0.9803\n",
      "Epoch 7/20\n",
      "60000/60000 [==============================] - 9s 145us/step - loss: 0.0195 - accuracy: 0.9942 - val_loss: 0.0885 - val_accuracy: 0.9807\n",
      "Epoch 8/20\n",
      "60000/60000 [==============================] - 9s 144us/step - loss: 0.0156 - accuracy: 0.9952 - val_loss: 0.1081 - val_accuracy: 0.9793\n",
      "Epoch 9/20\n",
      "60000/60000 [==============================] - 8s 139us/step - loss: 0.0126 - accuracy: 0.9960 - val_loss: 0.0949 - val_accuracy: 0.9827\n",
      "Epoch 10/20\n",
      "60000/60000 [==============================] - 8s 139us/step - loss: 0.0119 - accuracy: 0.9962 - val_loss: 0.0903 - val_accuracy: 0.9819\n",
      "Epoch 11/20\n",
      "60000/60000 [==============================] - 9s 142us/step - loss: 0.0115 - accuracy: 0.9969 - val_loss: 0.1230 - val_accuracy: 0.9808\n",
      "Epoch 12/20\n",
      "60000/60000 [==============================] - 8s 138us/step - loss: 0.0095 - accuracy: 0.9971 - val_loss: 0.1530 - val_accuracy: 0.9782\n",
      "Epoch 13/20\n",
      "60000/60000 [==============================] - 8s 141us/step - loss: 0.0098 - accuracy: 0.9974 - val_loss: 0.1349 - val_accuracy: 0.9821\n",
      "Epoch 14/20\n",
      "60000/60000 [==============================] - 8s 137us/step - loss: 0.0079 - accuracy: 0.9977 - val_loss: 0.1228 - val_accuracy: 0.9820\n",
      "Epoch 15/20\n",
      "60000/60000 [==============================] - 9s 156us/step - loss: 0.0080 - accuracy: 0.9981 - val_loss: 0.1246 - val_accuracy: 0.9829\n",
      "Epoch 16/20\n",
      "60000/60000 [==============================] - 8s 138us/step - loss: 0.0072 - accuracy: 0.9981 - val_loss: 0.1228 - val_accuracy: 0.9834\n",
      "Epoch 17/20\n",
      "60000/60000 [==============================] - 8s 141us/step - loss: 0.0063 - accuracy: 0.9984 - val_loss: 0.1288 - val_accuracy: 0.9835\n",
      "Epoch 18/20\n",
      "60000/60000 [==============================] - 8s 137us/step - loss: 0.0059 - accuracy: 0.9984 - val_loss: 0.1325 - val_accuracy: 0.9824\n",
      "Epoch 19/20\n",
      "60000/60000 [==============================] - 8s 139us/step - loss: 0.0059 - accuracy: 0.9985 - val_loss: 0.1477 - val_accuracy: 0.9829\n",
      "Epoch 20/20\n",
      "60000/60000 [==============================] - 8s 137us/step - loss: 0.0064 - accuracy: 0.9986 - val_loss: 0.1393 - val_accuracy: 0.9834\n"
     ]
    }
   ],
   "source": [
    "## Define a sequential model\n",
    "nnt = models.Sequential()\n",
    "nnt.add(layers.Dense(512, activation = 'relu', input_shape = (28*28, )))\n",
    "nnt.add(layers.Dense(512, activation = 'relu'))\n",
    "nnt.add(layers.Dense(10, activation = 'softmax'))\n",
    "nnt.summary()\n",
    "\n",
    "## Compile the model\n",
    "nnt.compile(optimizer = 'rmsprop', loss = 'categorical_crossentropy', \n",
    "                metrics = ['accuracy'])\n",
    "    \n",
    "## Fit the model, saving the results to a history file.     \n",
    "#nr.seed(2432)\n",
    "#set_random_seed(5544)\n",
    "history = nnt.fit(train_images, train_labels, \n",
    "                  epochs = 20, batch_size = 128,\n",
    "                  validation_data = (test_images, test_labels))"
   ]
  },
  {
   "cell_type": "code",
   "execution_count": 30,
   "metadata": {},
   "outputs": [
    {
     "data": {
      "image/png": "[encoded data removed]",
      "text/plain": [
       "<Figure size 432x288 with 1 Axes>"
      ]
     },
     "metadata": {
      "needs_background": "light"
     },
     "output_type": "display_data"
    }
   ],
   "source": [
    "plot_loss(history)"
   ]
  },
  {
   "cell_type": "code",
   "execution_count": 31,
   "metadata": {},
   "outputs": [
    {
     "data": {
      "image/png": "[encoded data removed]",
      "text/plain": [
       "<Figure size 432x288 with 1 Axes>"
      ]
     },
     "metadata": {
      "needs_background": "light"
     },
     "output_type": "display_data"
    }
   ],
   "source": [
    "plot_accuracy(history)"
   ]
  },
  {
   "cell_type": "markdown",
   "metadata": {},
   "source": [
    "Notice that after epoch four the true (test) loss actually increases, whereas the training loss continues to decrease. This is a clear indication of overfitting."
   ]
  },
  {
   "cell_type": "markdown",
   "metadata": {},
   "source": [
    "## Add regularization to the model"
   ]
  },
  {
   "cell_type": "markdown",
   "metadata": {},
   "source": [
    "Regularization is used to prevent over-fitting of machine learning models including neural networks. The Keras regularizers package provides L1 and L2 regularization methods. The theory of regularization will be addressed in other lessons. In addition you can find documentation on the Keras regularizers package.\n",
    "\n",
    "The code in the cell below adds the kernel_regularizer argument with the value of regularizers.l2(0.01) This adds a weight decay penalty of 0.01 to the model weights."
   ]
  },
  {
   "cell_type": "code",
   "execution_count": 34,
   "metadata": {},
   "outputs": [
    {
     "name": "stdout",
     "output_type": "stream",
     "text": [
      "Model: \"sequential_6\"\n",
      "_________________________________________________________________\n",
      "Layer (type)                 Output Shape              Param #   \n",
      "=================================================================\n",
      "dense_13 (Dense)             (None, 512)               401920    \n",
      "_________________________________________________________________\n",
      "dense_14 (Dense)             (None, 512)               262656    \n",
      "_________________________________________________________________\n",
      "dense_15 (Dense)             (None, 10)                5130      \n",
      "=================================================================\n",
      "Total params: 669,706\n",
      "Trainable params: 669,706\n",
      "Non-trainable params: 0\n",
      "_________________________________________________________________\n",
      "Train on 60000 samples, validate on 10000 samples\n",
      "Epoch 1/20\n",
      "60000/60000 [==============================] - 12s 194us/step - loss: 0.6359 - accuracy: 0.9228 - val_loss: 0.3434 - val_accuracy: 0.9487\n",
      "Epoch 2/20\n",
      "60000/60000 [==============================] - 11s 176us/step - loss: 0.2644 - accuracy: 0.9611 - val_loss: 0.2867 - val_accuracy: 0.9424\n",
      "Epoch 3/20\n",
      "60000/60000 [==============================] - 13s 216us/step - loss: 0.2063 - accuracy: 0.9665 - val_loss: 0.1806 - val_accuracy: 0.9722\n",
      "Epoch 4/20\n",
      "60000/60000 [==============================] - 11s 179us/step - loss: 0.1780 - accuracy: 0.9713 - val_loss: 0.2026 - val_accuracy: 0.9613\n",
      "Epoch 5/20\n",
      "60000/60000 [==============================] - 10s 174us/step - loss: 0.1630 - accuracy: 0.9732 - val_loss: 0.1783 - val_accuracy: 0.9678\n",
      "Epoch 6/20\n",
      "60000/60000 [==============================] - 13s 220us/step - loss: 0.1506 - accuracy: 0.9754 - val_loss: 0.1728 - val_accuracy: 0.9679\n",
      "Epoch 7/20\n",
      "60000/60000 [==============================] - 12s 204us/step - loss: 0.1431 - accuracy: 0.9764 - val_loss: 0.1708 - val_accuracy: 0.9662\n",
      "Epoch 8/20\n",
      "60000/60000 [==============================] - 12s 204us/step - loss: 0.1359 - accuracy: 0.9775 - val_loss: 0.1385 - val_accuracy: 0.9773\n",
      "Epoch 9/20\n",
      "60000/60000 [==============================] - 13s 214us/step - loss: 0.1301 - accuracy: 0.9780 - val_loss: 0.1297 - val_accuracy: 0.9790\n",
      "Epoch 10/20\n",
      "60000/60000 [==============================] - 12s 199us/step - loss: 0.1263 - accuracy: 0.9792 - val_loss: 0.1441 - val_accuracy: 0.9731\n",
      "Epoch 11/20\n",
      "60000/60000 [==============================] - 13s 212us/step - loss: 0.1241 - accuracy: 0.9796 - val_loss: 0.1304 - val_accuracy: 0.9773\n",
      "Epoch 12/20\n",
      "60000/60000 [==============================] - 12s 202us/step - loss: 0.1181 - accuracy: 0.9803 - val_loss: 0.1343 - val_accuracy: 0.9767\n",
      "Epoch 13/20\n",
      "60000/60000 [==============================] - 12s 202us/step - loss: 0.1176 - accuracy: 0.9807 - val_loss: 0.1390 - val_accuracy: 0.9742\n",
      "Epoch 14/20\n",
      "60000/60000 [==============================] - 12s 204us/step - loss: 0.1148 - accuracy: 0.9810 - val_loss: 0.1271 - val_accuracy: 0.9773\n",
      "Epoch 15/20\n",
      "60000/60000 [==============================] - 13s 212us/step - loss: 0.1141 - accuracy: 0.9813 - val_loss: 0.1309 - val_accuracy: 0.9756\n",
      "Epoch 16/20\n",
      "60000/60000 [==============================] - 12s 204us/step - loss: 0.1119 - accuracy: 0.9809 - val_loss: 0.1387 - val_accuracy: 0.9725\n",
      "Epoch 17/20\n",
      "60000/60000 [==============================] - 12s 200us/step - loss: 0.1098 - accuracy: 0.9822 - val_loss: 0.1944 - val_accuracy: 0.9562\n",
      "Epoch 18/20\n",
      "60000/60000 [==============================] - 12s 198us/step - loss: 0.1085 - accuracy: 0.9818 - val_loss: 0.1921 - val_accuracy: 0.9590\n",
      "Epoch 19/20\n",
      "60000/60000 [==============================] - 12s 207us/step - loss: 0.1075 - accuracy: 0.9825 - val_loss: 0.1548 - val_accuracy: 0.9685\n",
      "Epoch 20/20\n",
      "60000/60000 [==============================] - 13s 219us/step - loss: 0.1071 - accuracy: 0.9816 - val_loss: 0.1285 - val_accuracy: 0.9752\n"
     ]
    }
   ],
   "source": [
    "## Difine the layers of the sequential model and print a summary\n",
    "nnt = models.Sequential()\n",
    "nnt.add(layers.Dense(512, activation = 'relu', input_shape = (28*28, ),\n",
    "                        kernel_regularizer=regularizers.l2(0.001)))\n",
    "nnt.add(layers.Dense(512, activation = 'relu', kernel_regularizer=regularizers.l2(0.001)))\n",
    "nnt.add(layers.Dense(10, activation = 'softmax'))\n",
    "nnt.summary()\n",
    "\n",
    "## Define an optimzer object and compile the model\n",
    "optimizer = rmsprop()\n",
    "nnt.compile(optimizer = optimizer, loss = 'categorical_crossentropy', metrics = ['accuracy'])\n",
    "    \n",
    "## Fit the compiled model    \n",
    "#nr.seed(8765)\n",
    "#set_random_seed(7654)\n",
    "history = nnt.fit(train_images, train_labels, \n",
    "                  epochs = 20, batch_size = 128,\n",
    "                  validation_data = (test_images, test_labels))"
   ]
  },
  {
   "cell_type": "code",
   "execution_count": 35,
   "metadata": {},
   "outputs": [
    {
     "data": {
      "image/png": "[encoded data removed]",
      "text/plain": [
       "<Figure size 432x288 with 1 Axes>"
      ]
     },
     "metadata": {
      "needs_background": "light"
     },
     "output_type": "display_data"
    }
   ],
   "source": [
    "plot_loss(history)"
   ]
  },
  {
   "cell_type": "code",
   "execution_count": 36,
   "metadata": {},
   "outputs": [
    {
     "data": {
      "image/png": "[encoded data removed]",
      "text/plain": [
       "<Figure size 432x288 with 1 Axes>"
      ]
     },
     "metadata": {
      "needs_background": "light"
     },
     "output_type": "display_data"
    }
   ],
   "source": [
    "plot_accuracy(history)"
   ]
  },
  {
   "cell_type": "markdown",
   "metadata": {},
   "source": [
    "Notice here in regularized model, accuracy increases up to epochs 9. By using regularization we can increase iterations without overfitting up to 9 iterations (initially it was 4)."
   ]
  },
  {
   "cell_type": "code",
   "execution_count": null,
   "metadata": {},
   "outputs": [],
   "source": []
  }
 ],
 "metadata": {
  "kernelspec": {
   "display_name": "Python 3",
   "language": "python",
   "name": "python3"
  },
  "language_info": {
   "codemirror_mode": {
    "name": "ipython",
    "version": 3
   },
   "file_extension": ".py",
   "mimetype": "text/x-python",
   "name": "python",
   "nbconvert_exporter": "python",
   "pygments_lexer": "ipython3",
   "version": "3.7.1"
  }
 },
 "nbformat": 4,
 "nbformat_minor": 2
}
